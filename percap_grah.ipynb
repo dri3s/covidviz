{
 "cells": [
  {
   "cell_type": "code",
   "execution_count": 1,
   "metadata": {},
   "outputs": [],
   "source": [
    "import pandas as pd, numpy as np\n",
    "\n",
    "from matplotlib import pyplot as plt\n",
    "import matplotlib.dates as mdates\n",
    "myFmt = mdates.DateFormatter('%a\\n%m/%d')\n",
    "\n",
    "import seaborn as sns"
   ]
  },
  {
   "cell_type": "code",
   "execution_count": 17,
   "metadata": {},
   "outputs": [],
   "source": [
    "%matplotlib inline"
   ]
  },
  {
   "cell_type": "code",
   "execution_count": 24,
   "metadata": {},
   "outputs": [],
   "source": [
    "plt.rcParams['figure.figsize'] = 12, 6"
   ]
  },
  {
   "cell_type": "code",
   "execution_count": 2,
   "metadata": {},
   "outputs": [],
   "source": [
    "import matplotlib.ticker as mtick\n",
    "import matplotlib.dates as mdates"
   ]
  },
  {
   "cell_type": "code",
   "execution_count": 3,
   "metadata": {},
   "outputs": [],
   "source": [
    "pd.options.display.max_rows = 999"
   ]
  },
  {
   "cell_type": "code",
   "execution_count": 4,
   "metadata": {},
   "outputs": [],
   "source": [
    "from sklearn.linear_model import LinearRegression"
   ]
  },
  {
   "cell_type": "code",
   "execution_count": 5,
   "metadata": {},
   "outputs": [],
   "source": [
    "# Import COVID data from the NY Times\n",
    "path = \"https://raw.githubusercontent.com/nytimes/covid-19-data/master/us-counties.csv\"\n",
    "covid = pd.read_csv(path)\n",
    "covid['date'] = pd.to_datetime(covid.date)\n",
    "\n",
    "# Import census population data by county for 2018\n",
    "path = 'http://www.wtad.com/assets/news_files/PEP_2018_PEPANNCHG.ST05_with_ann.xlsx'\n",
    "pop = pd.read_excel(path)\n",
    "pop = pop.rename(columns={'GC.target-geo-id2':'fips',\n",
    "                'respop72018':'population'})\n",
    "pop = pop[['fips','population']]\n",
    "pop = pop.loc[1:]\n",
    "pop['population'] = pd.to_numeric(pop['population'])\n",
    "pop['fips'] = pd.to_numeric(pop.fips)"
   ]
  },
  {
   "cell_type": "code",
   "execution_count": 6,
   "metadata": {},
   "outputs": [],
   "source": [
    "# Import MSA mapping \n",
    "# Clean up MSA names to keep the major city and state\n",
    "path = \"https://raw.githubusercontent.com/dri3s/covidviz/master/metrolist.csv\"\n",
    "msa = pd.read_csv(path, nrows=1160, header=None, names=['msa_fips','msa_name','fips','county_name'])\n",
    "\n",
    "msa.fips = pd.to_numeric(msa['fips'])\n",
    "msa = msa.drop(columns=['msa_fips','county_name'])\n",
    "\n",
    "msasplit = msa.msa_name.str.split(pat=',|-', expand=True)\n",
    "msasplit['state'] = None\n",
    "\n",
    "for idx, row in msasplit.iterrows():\n",
    "    for col in row:\n",
    "        try:\n",
    "            state = col.strip()[0:2]\n",
    "            if state.isupper() and msasplit.loc[idx, 'state'] == None:\n",
    "                msasplit.loc[idx, 'state'] = state\n",
    "                continue\n",
    "        except:\n",
    "            continue\n",
    "\n",
    "msasplit = msasplit.rename(columns={0:'city'})\n",
    "\n",
    "msasplit = msasplit[['city','state']]\n",
    "msa[['city','state']] = msasplit\n",
    "msa['msa_name'] = msa.city + ', ' + msa.state"
   ]
  },
  {
   "cell_type": "code",
   "execution_count": 7,
   "metadata": {},
   "outputs": [],
   "source": [
    "# Make sure there are records for every single day - fill null values with zeroes\n",
    "calshell = pd.DataFrame(covid.date.unique(), columns=['date'])\n",
    "calshell['key'] = 1\n",
    "pop['key'] = 1\n",
    "covidmsa = calshell.merge(pop).merge(msa).merge(covid, how='left', on=['fips','date'])\n",
    "covidmsa = covidmsa.fillna(0)"
   ]
  },
  {
   "cell_type": "code",
   "execution_count": 8,
   "metadata": {},
   "outputs": [],
   "source": [
    "# Combine covid, population, and MSA data\n",
    "# Sum by MSA and compute cases per capita\n",
    "covidmsa = covidmsa.drop(columns=['fips','key']).groupby(['date','msa_name']).sum().reset_index()\n",
    "covidmsa['caseperk'] = (covidmsa.cases/covidmsa['population']) * 1000\n",
    "covidmsa = covidmsa.sort_values(by=['msa_name','date']).reset_index(drop=True)\n",
    "covidmsa = covidmsa.loc[covidmsa.cases >= 100]\n",
    "covidmsa ['num_days'] = (covidmsa.date - covidmsa.groupby(['msa_name'])['date'].transform('min')).dt.days"
   ]
  },
  {
   "cell_type": "code",
   "execution_count": 9,
   "metadata": {},
   "outputs": [
    {
     "name": "stderr",
     "output_type": "stream",
     "text": [
      "/data01/home/sla/envs/venv_pd22/lib/python3.4/site-packages/ipykernel_launcher.py:10: RuntimeWarning: divide by zero encountered in double_scalars\n",
      "  # Remove the CWD from sys.path while we load stuff.\n"
     ]
    }
   ],
   "source": [
    "def GetDouble(df):\n",
    "    df['lncase'] = np.log(df.cases)\n",
    "    df = df.sort_values(by='date')\n",
    "\n",
    "    X = df.tail(5).num_days.values.reshape(-1, 1)\n",
    "    y = df.tail(5).lncase.values\n",
    "\n",
    "    reg = LinearRegression().fit(X, y)\n",
    "\n",
    "    return round(np.log(2)/reg.coef_[0], 1)\n",
    "\n",
    "doubling = covidmsa.groupby('msa_name').apply(lambda x: GetDouble(x)).reset_index()\n",
    "doubling = doubling.rename(columns={0: 'doubling'})\n",
    "doubling = doubling.loc[doubling.doubling != np.inf]\n",
    "doubling = doubling.sort_values(by='doubling').reset_index(drop=True)"
   ]
  },
  {
   "cell_type": "code",
   "execution_count": 49,
   "metadata": {},
   "outputs": [
    {
     "data": {
      "text/html": [
       "<div>\n",
       "<style scoped>\n",
       "    .dataframe tbody tr th:only-of-type {\n",
       "        vertical-align: middle;\n",
       "    }\n",
       "\n",
       "    .dataframe tbody tr th {\n",
       "        vertical-align: top;\n",
       "    }\n",
       "\n",
       "    .dataframe thead th {\n",
       "        text-align: right;\n",
       "    }\n",
       "</style>\n",
       "<table border=\"1\" class=\"dataframe\">\n",
       "  <thead>\n",
       "    <tr style=\"text-align: right;\">\n",
       "      <th></th>\n",
       "      <th>msa_name</th>\n",
       "      <th>doubling</th>\n",
       "    </tr>\n",
       "  </thead>\n",
       "  <tbody>\n",
       "    <tr>\n",
       "      <th>6</th>\n",
       "      <td>Waco, TX</td>\n",
       "      <td>6.5</td>\n",
       "    </tr>\n",
       "    <tr>\n",
       "      <th>7</th>\n",
       "      <td>Odessa, TX</td>\n",
       "      <td>7.2</td>\n",
       "    </tr>\n",
       "    <tr>\n",
       "      <th>8</th>\n",
       "      <td>San Angelo, TX</td>\n",
       "      <td>7.3</td>\n",
       "    </tr>\n",
       "    <tr>\n",
       "      <th>10</th>\n",
       "      <td>Wichita Falls, TX</td>\n",
       "      <td>7.5</td>\n",
       "    </tr>\n",
       "    <tr>\n",
       "      <th>11</th>\n",
       "      <td>Corpus Christi, TX</td>\n",
       "      <td>7.7</td>\n",
       "    </tr>\n",
       "    <tr>\n",
       "      <th>12</th>\n",
       "      <td>College Station, TX</td>\n",
       "      <td>8.3</td>\n",
       "    </tr>\n",
       "    <tr>\n",
       "      <th>13</th>\n",
       "      <td>McAllen, TX</td>\n",
       "      <td>8.3</td>\n",
       "    </tr>\n",
       "    <tr>\n",
       "      <th>18</th>\n",
       "      <td>Midland, TX</td>\n",
       "      <td>9.7</td>\n",
       "    </tr>\n",
       "    <tr>\n",
       "      <th>19</th>\n",
       "      <td>Lubbock, TX</td>\n",
       "      <td>9.8</td>\n",
       "    </tr>\n",
       "    <tr>\n",
       "      <th>21</th>\n",
       "      <td>Longview, TX</td>\n",
       "      <td>10.4</td>\n",
       "    </tr>\n",
       "    <tr>\n",
       "      <th>25</th>\n",
       "      <td>San Antonio, TX</td>\n",
       "      <td>11.8</td>\n",
       "    </tr>\n",
       "    <tr>\n",
       "      <th>33</th>\n",
       "      <td>Austin, TX</td>\n",
       "      <td>13.6</td>\n",
       "    </tr>\n",
       "    <tr>\n",
       "      <th>39</th>\n",
       "      <td>Laredo, TX</td>\n",
       "      <td>15.0</td>\n",
       "    </tr>\n",
       "    <tr>\n",
       "      <th>59</th>\n",
       "      <td>Tyler, TX</td>\n",
       "      <td>19.3</td>\n",
       "    </tr>\n",
       "    <tr>\n",
       "      <th>65</th>\n",
       "      <td>Brownsville, TX</td>\n",
       "      <td>19.8</td>\n",
       "    </tr>\n",
       "    <tr>\n",
       "      <th>78</th>\n",
       "      <td>Houston, TX</td>\n",
       "      <td>21.3</td>\n",
       "    </tr>\n",
       "    <tr>\n",
       "      <th>89</th>\n",
       "      <td>Sherman, TX</td>\n",
       "      <td>24.1</td>\n",
       "    </tr>\n",
       "    <tr>\n",
       "      <th>100</th>\n",
       "      <td>Dallas, TX</td>\n",
       "      <td>26.5</td>\n",
       "    </tr>\n",
       "    <tr>\n",
       "      <th>102</th>\n",
       "      <td>Victoria, TX</td>\n",
       "      <td>26.8</td>\n",
       "    </tr>\n",
       "    <tr>\n",
       "      <th>104</th>\n",
       "      <td>Killeen, TX</td>\n",
       "      <td>27.0</td>\n",
       "    </tr>\n",
       "    <tr>\n",
       "      <th>118</th>\n",
       "      <td>Beaumont, TX</td>\n",
       "      <td>29.2</td>\n",
       "    </tr>\n",
       "    <tr>\n",
       "      <th>174</th>\n",
       "      <td>El Paso, TX</td>\n",
       "      <td>46.0</td>\n",
       "    </tr>\n",
       "    <tr>\n",
       "      <th>220</th>\n",
       "      <td>Texarkana, TX</td>\n",
       "      <td>63.5</td>\n",
       "    </tr>\n",
       "    <tr>\n",
       "      <th>309</th>\n",
       "      <td>Amarillo, TX</td>\n",
       "      <td>172.1</td>\n",
       "    </tr>\n",
       "  </tbody>\n",
       "</table>\n",
       "</div>"
      ],
      "text/plain": [
       "                msa_name  doubling\n",
       "6               Waco, TX       6.5\n",
       "7             Odessa, TX       7.2\n",
       "8         San Angelo, TX       7.3\n",
       "10     Wichita Falls, TX       7.5\n",
       "11    Corpus Christi, TX       7.7\n",
       "12   College Station, TX       8.3\n",
       "13           McAllen, TX       8.3\n",
       "18           Midland, TX       9.7\n",
       "19           Lubbock, TX       9.8\n",
       "21          Longview, TX      10.4\n",
       "25       San Antonio, TX      11.8\n",
       "33            Austin, TX      13.6\n",
       "39            Laredo, TX      15.0\n",
       "59             Tyler, TX      19.3\n",
       "65       Brownsville, TX      19.8\n",
       "78           Houston, TX      21.3\n",
       "89           Sherman, TX      24.1\n",
       "100           Dallas, TX      26.5\n",
       "102         Victoria, TX      26.8\n",
       "104          Killeen, TX      27.0\n",
       "118         Beaumont, TX      29.2\n",
       "174          El Paso, TX      46.0\n",
       "220        Texarkana, TX      63.5\n",
       "309         Amarillo, TX     172.1"
      ]
     },
     "execution_count": 49,
     "metadata": {},
     "output_type": "execute_result"
    }
   ],
   "source": [
    "doubling.loc[(doubling.msa_name.str.contains('TX')) & (doubling.doubling > 0)]"
   ]
  },
  {
   "cell_type": "code",
   "execution_count": 10,
   "metadata": {},
   "outputs": [],
   "source": [
    "worst = doubling.head(10).msa_name.tolist()"
   ]
  },
  {
   "cell_type": "code",
   "execution_count": 11,
   "metadata": {},
   "outputs": [],
   "source": [
    "# Mark the 10 worst MSAs and include others of interest\n",
    "#worst = list(covidmsa.groupby('msa_name').\n",
    "#             caseperk.max().reset_index().\n",
    "#             sort_values('caseperk').tail(10).msa_name.values)"
   ]
  },
  {
   "cell_type": "code",
   "execution_count": 12,
   "metadata": {},
   "outputs": [],
   "source": [
    "dets = list(covidmsa.loc[covidmsa.msa_name.str.contains('Dallas')].msa_name.unique())\n",
    "dets.append(covidmsa.loc[covidmsa.msa_name.str.contains('Houston')].msa_name.unique()[0])\n",
    "\n",
    "# These are cities with quarantine facilities that had lots of patients early on \n",
    "# They are outliers and should be excluded\n",
    "#exclude = ['San Antonio, TX','Omaha, NE','Vallejo, CA']\n",
    "exclude = []"
   ]
  },
  {
   "cell_type": "code",
   "execution_count": 13,
   "metadata": {},
   "outputs": [
    {
     "data": {
      "text/plain": [
       "Text(0.9,0.01,'Data current through 06/18')"
      ]
     },
     "execution_count": 13,
     "metadata": {},
     "output_type": "execute_result"
    }
   ],
   "source": [
    "tx = covidmsa.loc[covidmsa.msa_name.str.contains('TX')].msa_name.unique().tolist()\n",
    "ymax = covidmsa.loc[covidmsa.msa_name.isin(tx)].cases.max() * 1.1\n",
    "\n",
    "graph = tx\n",
    "colors = iter(sns.color_palette('husl', len(graph)))\n",
    "\n",
    "lss = ['-','--','-.',':']\n",
    "lss = iter(lss * (int(len(graph)/len(lss)) + 1))\n",
    "\n",
    "# Compute doubling rate comparisons and graph\n",
    "nd = covidmsa.loc[covidmsa.msa_name.isin(tx)].num_days.max()\n",
    "exp = pd.DataFrame(np.arange(nd), columns=['num_days'])\n",
    "#ds = list(range(4, 9))\n",
    "ds = [5, 10, 15, 20, 30]\n",
    "\n",
    "for d in ds:\n",
    "    exp['double{}'.format(d)] = 100 * np.exp(exp.num_days * (np.log(2)/d))\n",
    "    exp.loc[exp['double{}'.format(d)] > ymax, 'double{}'.format(d)] = np.NaN\n",
    "    \n",
    "plt.rcParams['figure.figsize'] = 15, 5\n",
    "fig, ax = plt.subplots()\n",
    "\n",
    "for d in ds:\n",
    "    ys = exp['double{}'.format(d)]\n",
    "    ax.plot(exp.num_days, ys, ls='dotted', color='red', label='_nolabel_', alpha=0.6)\n",
    "    xlab = exp[['num_days','double{}'.format(d)]].dropna().num_days.max()\n",
    "    plt.text(xlab, ys.max(), 'x2 in {} days'.format(d))\n",
    "\n",
    "for msaname, df in covidmsa.groupby('msa_name'):    \n",
    "    if msaname in exclude:\n",
    "        continue\n",
    "    \n",
    "    df = df.sort_values(by='caseperk')\n",
    "    \n",
    "    #if msaname in worst or msaname in dets:\n",
    "    if msaname in graph:\n",
    "        label = msaname\n",
    "        color = next(colors)\n",
    "        ls = next(lss)\n",
    "        lw, alpha = (2, 1)\n",
    "    else:   \n",
    "        continue\n",
    "        label = '_nolabel_'\n",
    "        color='gray'\n",
    "        lw, alpha = (0.4, 0.4)\n",
    "        ls = '-'\n",
    "    \n",
    "    #ax.plot(covidmsa.loc[covidmsa.fips == fips]['date'],\n",
    "    ax.plot(df['num_days'],\n",
    "            df['cases'], \n",
    "            label=label,\n",
    "            color=color,\n",
    "            lw=lw,\n",
    "            alpha=alpha,\n",
    "            ls = ls\n",
    "            )    \n",
    "    \n",
    "    \n",
    "#ax.set_xlim([pd.to_datetime('15feb2020'),pd.to_datetime(date.today())])\n",
    "#ax.xaxis.set_major_formatter(myFmt)\n",
    "#ax.xaxis.set_major_locator(mdates.WeekdayLocator(mdates.MO))\n",
    "\n",
    "#ax.set_xlim([0, covidmsa.num_days.max()])\n",
    "\n",
    "ax.set_yscale('log', basey=10)\n",
    "\n",
    "#ax.set_ylabel('COVID Cases per 1,000 people')\n",
    "ax.set_ylabel('Total COVID Cases')\n",
    "ax.set_xlabel('Num Days Since 100th Case')\n",
    "ax.legend(ncol = 2, prop={'size': 8})\n",
    "ax.grid()\n",
    "\n",
    "plt.figtext(0.9, 0.01, 'Data current through {:%m/%d}'.format(covidmsa.date.max()), horizontalalignment='right') "
   ]
  },
  {
   "cell_type": "code",
   "execution_count": 33,
   "metadata": {},
   "outputs": [],
   "source": [
    "h['new_cases'] = h.cases - h['cases'].shift()\n"
   ]
  },
  {
   "cell_type": "code",
   "execution_count": 46,
   "metadata": {},
   "outputs": [
    {
     "name": "stderr",
     "output_type": "stream",
     "text": [
      "/data01/home/sla/envs/venv_pd22/lib/python3.4/site-packages/ipykernel_launcher.py:6: SettingWithCopyWarning: \n",
      "A value is trying to be set on a copy of a slice from a DataFrame.\n",
      "Try using .loc[row_indexer,col_indexer] = value instead\n",
      "\n",
      "See the caveats in the documentation: http://pandas.pydata.org/pandas-docs/stable/indexing.html#indexing-view-versus-copy\n",
      "  \n",
      "/data01/home/sla/envs/venv_pd22/lib/python3.4/site-packages/ipykernel_launcher.py:6: SettingWithCopyWarning: \n",
      "A value is trying to be set on a copy of a slice from a DataFrame.\n",
      "Try using .loc[row_indexer,col_indexer] = value instead\n",
      "\n",
      "See the caveats in the documentation: http://pandas.pydata.org/pandas-docs/stable/indexing.html#indexing-view-versus-copy\n",
      "  \n"
     ]
    },
    {
     "data": {
      "text/plain": [
       "Text(0.5,1,'COVID Case Count')"
      ]
     },
     "execution_count": 46,
     "metadata": {},
     "output_type": "execute_result"
    },
    {
     "data": {
      "image/png": "[encoded data removed]",
      "text/plain": [
       "<Figure size 864x432 with 1 Axes>"
      ]
     },
     "metadata": {},
     "output_type": "display_data"
    }
   ],
   "source": [
    "colors = iter(['blue','red'])\n",
    "\n",
    "fig, ax = plt.subplots()\n",
    "\n",
    "for metro, h in covidmsa.loc[covidmsa.msa_name.isin(['Houston, TX','Dallas, TX'])].groupby('msa_name'):    \n",
    "    h['new_cases'] = h.cases - h['cases'].shift()\n",
    "    \n",
    "    metro_clean = metro.replace(', TX', '')\n",
    "    \n",
    "    color = next(colors)\n",
    "    \n",
    "    ax.plot(h.date, h.new_cases, label='New cases - {}'.format(metro_clean), color=color, ls='--', lw=1)\n",
    "    ax.plot(h.date, h.new_cases.rolling(7, center=False).mean(), \n",
    "            label='7 day rolling avg - {}'.format(metro_clean), color=color, lw=2)\n",
    "    ax.xaxis.set_major_locator(mdates.WeekdayLocator(mdates.MONDAY))\n",
    "    ax.xaxis.set_major_formatter(mdates.DateFormatter('%b %d'))\n",
    "    #ax.set_xlim(h.date.min(), h.date.max())\n",
    "\n",
    "ax.grid()\n",
    "ax.legend()\n",
    "ax.set_title('COVID Case Count')"
   ]
  }
 ],
 "metadata": {
  "kernelspec": {
   "display_name": "Python 3",
   "language": "python",
   "name": "python3"
  },
  "language_info": {
   "codemirror_mode": {
    "name": "ipython",
    "version": 3
   },
   "file_extension": ".py",
   "mimetype": "text/x-python",
   "name": "python",
   "nbconvert_exporter": "python",
   "pygments_lexer": "ipython3",
   "version": "3.4.5"
  },
  "varInspector": {
   "cols": {
    "lenName": 16,
    "lenType": 16,
    "lenVar": 40
   },
   "kernels_config": {
    "python": {
     "delete_cmd_postfix": "",
     "delete_cmd_prefix": "del ",
     "library": "var_list.py",
     "varRefreshCmd": "print(var_dic_list())"
    },
    "r": {
     "delete_cmd_postfix": ") ",
     "delete_cmd_prefix": "rm(",
     "library": "var_list.r",
     "varRefreshCmd": "cat(var_dic_list()) "
    }
   },
   "types_to_exclude": [
    "module",
    "function",
    "builtin_function_or_method",
    "instance",
    "_Feature"
   ],
   "window_display": false
  }
 },
 "nbformat": 4,
 "nbformat_minor": 4
}
